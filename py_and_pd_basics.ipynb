{
  "nbformat": 4,
  "nbformat_minor": 0,
  "metadata": {
    "colab": {
      "name": "py and pd basics.ipynb",
      "provenance": [],
      "collapsed_sections": [],
      "authorship_tag": "ABX9TyNppg6fOpZnRilEjP0oR92f",
      "include_colab_link": true
    },
    "kernelspec": {
      "name": "python3",
      "display_name": "Python 3"
    },
    "language_info": {
      "name": "python"
    }
  },
  "cells": [
    {
      "cell_type": "markdown",
      "metadata": {
        "id": "view-in-github",
        "colab_type": "text"
      },
      "source": [
        "<a href=\"https://colab.research.google.com/github/abhishek1551/own-description/blob/main/py_and_pd_basics.ipynb\" target=\"_parent\"><img src=\"https://colab.research.google.com/assets/colab-badge.svg\" alt=\"Open In Colab\"/></a>"
      ]
    },
    {
      "cell_type": "code",
      "metadata": {
        "id": "7QPKj9FiphGl"
      },
      "source": [
        "import numpy as np\n",
        "import pandas as pd\n"
      ],
      "execution_count": 68,
      "outputs": []
    },
    {
      "cell_type": "code",
      "metadata": {
        "id": "ztAwEV_0ttx-"
      },
      "source": [
        "s= pd.Series([1,5,np.nan,6,8])"
      ],
      "execution_count": 69,
      "outputs": []
    },
    {
      "cell_type": "code",
      "metadata": {
        "colab": {
          "base_uri": "https://localhost:8080/"
        },
        "id": "UEPzrIviuAUN",
        "outputId": "47e9e781-99db-4641-afe5-fa8bbbecf2dd"
      },
      "source": [
        "s"
      ],
      "execution_count": 70,
      "outputs": [
        {
          "output_type": "execute_result",
          "data": {
            "text/plain": [
              "0    1.0\n",
              "1    5.0\n",
              "2    NaN\n",
              "3    6.0\n",
              "4    8.0\n",
              "dtype: float64"
            ]
          },
          "metadata": {},
          "execution_count": 70
        }
      ]
    },
    {
      "cell_type": "code",
      "metadata": {
        "id": "oLqj39TruHFd"
      },
      "source": [
        "dates= pd.date_range(\"20211114\", periods=5)"
      ],
      "execution_count": 71,
      "outputs": []
    },
    {
      "cell_type": "code",
      "metadata": {
        "id": "XUWRAYnovLO2",
        "colab": {
          "base_uri": "https://localhost:8080/"
        },
        "outputId": "72818403-225f-4b8b-f811-694b81251a01"
      },
      "source": [
        "dates\n"
      ],
      "execution_count": 72,
      "outputs": [
        {
          "output_type": "execute_result",
          "data": {
            "text/plain": [
              "DatetimeIndex(['2021-11-14', '2021-11-15', '2021-11-16', '2021-11-17',\n",
              "               '2021-11-18'],\n",
              "              dtype='datetime64[ns]', freq='D')"
            ]
          },
          "metadata": {},
          "execution_count": 72
        }
      ]
    },
    {
      "cell_type": "code",
      "metadata": {
        "id": "r1rq-s9MvVKU",
        "colab": {
          "base_uri": "https://localhost:8080/",
          "height": 204
        },
        "outputId": "127684ae-a0c0-434f-f03e-78a1f31ca5cc"
      },
      "source": [
        "df= pd.DataFrame(np.random.rand(5,4), index=dates, columns=list(\"ABCD\"))\n",
        "df"
      ],
      "execution_count": 73,
      "outputs": [
        {
          "output_type": "execute_result",
          "data": {
            "text/html": [
              "<div>\n",
              "<style scoped>\n",
              "    .dataframe tbody tr th:only-of-type {\n",
              "        vertical-align: middle;\n",
              "    }\n",
              "\n",
              "    .dataframe tbody tr th {\n",
              "        vertical-align: top;\n",
              "    }\n",
              "\n",
              "    .dataframe thead th {\n",
              "        text-align: right;\n",
              "    }\n",
              "</style>\n",
              "<table border=\"1\" class=\"dataframe\">\n",
              "  <thead>\n",
              "    <tr style=\"text-align: right;\">\n",
              "      <th></th>\n",
              "      <th>A</th>\n",
              "      <th>B</th>\n",
              "      <th>C</th>\n",
              "      <th>D</th>\n",
              "    </tr>\n",
              "  </thead>\n",
              "  <tbody>\n",
              "    <tr>\n",
              "      <th>2021-11-14</th>\n",
              "      <td>0.222496</td>\n",
              "      <td>0.599362</td>\n",
              "      <td>0.945796</td>\n",
              "      <td>0.880243</td>\n",
              "    </tr>\n",
              "    <tr>\n",
              "      <th>2021-11-15</th>\n",
              "      <td>0.832029</td>\n",
              "      <td>0.044688</td>\n",
              "      <td>0.340890</td>\n",
              "      <td>0.574279</td>\n",
              "    </tr>\n",
              "    <tr>\n",
              "      <th>2021-11-16</th>\n",
              "      <td>0.281376</td>\n",
              "      <td>0.404393</td>\n",
              "      <td>0.885978</td>\n",
              "      <td>0.861549</td>\n",
              "    </tr>\n",
              "    <tr>\n",
              "      <th>2021-11-17</th>\n",
              "      <td>0.760718</td>\n",
              "      <td>0.328135</td>\n",
              "      <td>0.702974</td>\n",
              "      <td>0.140668</td>\n",
              "    </tr>\n",
              "    <tr>\n",
              "      <th>2021-11-18</th>\n",
              "      <td>0.821839</td>\n",
              "      <td>0.426918</td>\n",
              "      <td>0.565682</td>\n",
              "      <td>0.063322</td>\n",
              "    </tr>\n",
              "  </tbody>\n",
              "</table>\n",
              "</div>"
            ],
            "text/plain": [
              "                   A         B         C         D\n",
              "2021-11-14  0.222496  0.599362  0.945796  0.880243\n",
              "2021-11-15  0.832029  0.044688  0.340890  0.574279\n",
              "2021-11-16  0.281376  0.404393  0.885978  0.861549\n",
              "2021-11-17  0.760718  0.328135  0.702974  0.140668\n",
              "2021-11-18  0.821839  0.426918  0.565682  0.063322"
            ]
          },
          "metadata": {},
          "execution_count": 73
        }
      ]
    },
    {
      "cell_type": "code",
      "metadata": {
        "id": "y_eAUJzO0HO8"
      },
      "source": [
        "df2= pd.DataFrame({\n",
        "    \"A\":2,\n",
        "    \"B\":pd.Timestamp(\"20211114\"),\n",
        "    \"C\":pd.Series([1,2,5,8]),\n",
        "    \"D\":\"Hello\",\n",
        "})\n",
        "     "
      ],
      "execution_count": 74,
      "outputs": []
    },
    {
      "cell_type": "code",
      "metadata": {
        "colab": {
          "base_uri": "https://localhost:8080/",
          "height": 173
        },
        "id": "PalxFZ311gB9",
        "outputId": "1d3282a7-354e-4048-9e91-47a521e2a9c3"
      },
      "source": [
        "df2"
      ],
      "execution_count": 75,
      "outputs": [
        {
          "output_type": "execute_result",
          "data": {
            "text/html": [
              "<div>\n",
              "<style scoped>\n",
              "    .dataframe tbody tr th:only-of-type {\n",
              "        vertical-align: middle;\n",
              "    }\n",
              "\n",
              "    .dataframe tbody tr th {\n",
              "        vertical-align: top;\n",
              "    }\n",
              "\n",
              "    .dataframe thead th {\n",
              "        text-align: right;\n",
              "    }\n",
              "</style>\n",
              "<table border=\"1\" class=\"dataframe\">\n",
              "  <thead>\n",
              "    <tr style=\"text-align: right;\">\n",
              "      <th></th>\n",
              "      <th>A</th>\n",
              "      <th>B</th>\n",
              "      <th>C</th>\n",
              "      <th>D</th>\n",
              "    </tr>\n",
              "  </thead>\n",
              "  <tbody>\n",
              "    <tr>\n",
              "      <th>0</th>\n",
              "      <td>2</td>\n",
              "      <td>2021-11-14</td>\n",
              "      <td>1</td>\n",
              "      <td>Hello</td>\n",
              "    </tr>\n",
              "    <tr>\n",
              "      <th>1</th>\n",
              "      <td>2</td>\n",
              "      <td>2021-11-14</td>\n",
              "      <td>2</td>\n",
              "      <td>Hello</td>\n",
              "    </tr>\n",
              "    <tr>\n",
              "      <th>2</th>\n",
              "      <td>2</td>\n",
              "      <td>2021-11-14</td>\n",
              "      <td>5</td>\n",
              "      <td>Hello</td>\n",
              "    </tr>\n",
              "    <tr>\n",
              "      <th>3</th>\n",
              "      <td>2</td>\n",
              "      <td>2021-11-14</td>\n",
              "      <td>8</td>\n",
              "      <td>Hello</td>\n",
              "    </tr>\n",
              "  </tbody>\n",
              "</table>\n",
              "</div>"
            ],
            "text/plain": [
              "   A          B  C      D\n",
              "0  2 2021-11-14  1  Hello\n",
              "1  2 2021-11-14  2  Hello\n",
              "2  2 2021-11-14  5  Hello\n",
              "3  2 2021-11-14  8  Hello"
            ]
          },
          "metadata": {},
          "execution_count": 75
        }
      ]
    },
    {
      "cell_type": "code",
      "metadata": {
        "colab": {
          "base_uri": "https://localhost:8080/"
        },
        "id": "cwgG092e4h4T",
        "outputId": "11489458-b219-4d73-ac91-5b0b557e6c99"
      },
      "source": [
        "df2.dtypes"
      ],
      "execution_count": 76,
      "outputs": [
        {
          "output_type": "execute_result",
          "data": {
            "text/plain": [
              "A             int64\n",
              "B    datetime64[ns]\n",
              "C             int64\n",
              "D            object\n",
              "dtype: object"
            ]
          },
          "metadata": {},
          "execution_count": 76
        }
      ]
    },
    {
      "cell_type": "code",
      "metadata": {
        "id": "1o3DVkfW5IDb",
        "colab": {
          "base_uri": "https://localhost:8080/",
          "height": 111
        },
        "outputId": "f790068a-906f-432a-c1e7-5f75f4d2e886"
      },
      "source": [
        "df.head(2)"
      ],
      "execution_count": 77,
      "outputs": [
        {
          "output_type": "execute_result",
          "data": {
            "text/html": [
              "<div>\n",
              "<style scoped>\n",
              "    .dataframe tbody tr th:only-of-type {\n",
              "        vertical-align: middle;\n",
              "    }\n",
              "\n",
              "    .dataframe tbody tr th {\n",
              "        vertical-align: top;\n",
              "    }\n",
              "\n",
              "    .dataframe thead th {\n",
              "        text-align: right;\n",
              "    }\n",
              "</style>\n",
              "<table border=\"1\" class=\"dataframe\">\n",
              "  <thead>\n",
              "    <tr style=\"text-align: right;\">\n",
              "      <th></th>\n",
              "      <th>A</th>\n",
              "      <th>B</th>\n",
              "      <th>C</th>\n",
              "      <th>D</th>\n",
              "    </tr>\n",
              "  </thead>\n",
              "  <tbody>\n",
              "    <tr>\n",
              "      <th>2021-11-14</th>\n",
              "      <td>0.222496</td>\n",
              "      <td>0.599362</td>\n",
              "      <td>0.945796</td>\n",
              "      <td>0.880243</td>\n",
              "    </tr>\n",
              "    <tr>\n",
              "      <th>2021-11-15</th>\n",
              "      <td>0.832029</td>\n",
              "      <td>0.044688</td>\n",
              "      <td>0.340890</td>\n",
              "      <td>0.574279</td>\n",
              "    </tr>\n",
              "  </tbody>\n",
              "</table>\n",
              "</div>"
            ],
            "text/plain": [
              "                   A         B         C         D\n",
              "2021-11-14  0.222496  0.599362  0.945796  0.880243\n",
              "2021-11-15  0.832029  0.044688  0.340890  0.574279"
            ]
          },
          "metadata": {},
          "execution_count": 77
        }
      ]
    },
    {
      "cell_type": "code",
      "metadata": {
        "colab": {
          "base_uri": "https://localhost:8080/"
        },
        "id": "eL8U73HW5Rlb",
        "outputId": "01f6a66d-361c-4450-e085-9fe3d8276a60"
      },
      "source": [
        "df.index"
      ],
      "execution_count": 78,
      "outputs": [
        {
          "output_type": "execute_result",
          "data": {
            "text/plain": [
              "DatetimeIndex(['2021-11-14', '2021-11-15', '2021-11-16', '2021-11-17',\n",
              "               '2021-11-18'],\n",
              "              dtype='datetime64[ns]', freq='D')"
            ]
          },
          "metadata": {},
          "execution_count": 78
        }
      ]
    },
    {
      "cell_type": "code",
      "metadata": {
        "colab": {
          "base_uri": "https://localhost:8080/"
        },
        "id": "25liwxpC5ZD7",
        "outputId": "bbe09436-5d71-42cc-cac1-4bfe3981b9f9"
      },
      "source": [
        "df.to_numpy()\n"
      ],
      "execution_count": 79,
      "outputs": [
        {
          "output_type": "execute_result",
          "data": {
            "text/plain": [
              "array([[0.22249585, 0.59936176, 0.94579601, 0.88024272],\n",
              "       [0.83202854, 0.04468783, 0.3408895 , 0.57427943],\n",
              "       [0.28137608, 0.40439324, 0.88597795, 0.86154939],\n",
              "       [0.76071795, 0.32813477, 0.70297394, 0.14066819],\n",
              "       [0.82183912, 0.42691786, 0.5656821 , 0.06332243]])"
            ]
          },
          "metadata": {},
          "execution_count": 79
        }
      ]
    },
    {
      "cell_type": "code",
      "metadata": {
        "colab": {
          "base_uri": "https://localhost:8080/",
          "height": 297
        },
        "id": "OHpeLtnM5l90",
        "outputId": "5e035d06-f558-4afa-cde2-c1830f0cf37f"
      },
      "source": [
        "df.describe()"
      ],
      "execution_count": 80,
      "outputs": [
        {
          "output_type": "execute_result",
          "data": {
            "text/html": [
              "<div>\n",
              "<style scoped>\n",
              "    .dataframe tbody tr th:only-of-type {\n",
              "        vertical-align: middle;\n",
              "    }\n",
              "\n",
              "    .dataframe tbody tr th {\n",
              "        vertical-align: top;\n",
              "    }\n",
              "\n",
              "    .dataframe thead th {\n",
              "        text-align: right;\n",
              "    }\n",
              "</style>\n",
              "<table border=\"1\" class=\"dataframe\">\n",
              "  <thead>\n",
              "    <tr style=\"text-align: right;\">\n",
              "      <th></th>\n",
              "      <th>A</th>\n",
              "      <th>B</th>\n",
              "      <th>C</th>\n",
              "      <th>D</th>\n",
              "    </tr>\n",
              "  </thead>\n",
              "  <tbody>\n",
              "    <tr>\n",
              "      <th>count</th>\n",
              "      <td>5.000000</td>\n",
              "      <td>5.000000</td>\n",
              "      <td>5.000000</td>\n",
              "      <td>5.000000</td>\n",
              "    </tr>\n",
              "    <tr>\n",
              "      <th>mean</th>\n",
              "      <td>0.583692</td>\n",
              "      <td>0.360699</td>\n",
              "      <td>0.688264</td>\n",
              "      <td>0.504012</td>\n",
              "    </tr>\n",
              "    <tr>\n",
              "      <th>std</th>\n",
              "      <td>0.304787</td>\n",
              "      <td>0.202594</td>\n",
              "      <td>0.245624</td>\n",
              "      <td>0.387475</td>\n",
              "    </tr>\n",
              "    <tr>\n",
              "      <th>min</th>\n",
              "      <td>0.222496</td>\n",
              "      <td>0.044688</td>\n",
              "      <td>0.340890</td>\n",
              "      <td>0.063322</td>\n",
              "    </tr>\n",
              "    <tr>\n",
              "      <th>25%</th>\n",
              "      <td>0.281376</td>\n",
              "      <td>0.328135</td>\n",
              "      <td>0.565682</td>\n",
              "      <td>0.140668</td>\n",
              "    </tr>\n",
              "    <tr>\n",
              "      <th>50%</th>\n",
              "      <td>0.760718</td>\n",
              "      <td>0.404393</td>\n",
              "      <td>0.702974</td>\n",
              "      <td>0.574279</td>\n",
              "    </tr>\n",
              "    <tr>\n",
              "      <th>75%</th>\n",
              "      <td>0.821839</td>\n",
              "      <td>0.426918</td>\n",
              "      <td>0.885978</td>\n",
              "      <td>0.861549</td>\n",
              "    </tr>\n",
              "    <tr>\n",
              "      <th>max</th>\n",
              "      <td>0.832029</td>\n",
              "      <td>0.599362</td>\n",
              "      <td>0.945796</td>\n",
              "      <td>0.880243</td>\n",
              "    </tr>\n",
              "  </tbody>\n",
              "</table>\n",
              "</div>"
            ],
            "text/plain": [
              "              A         B         C         D\n",
              "count  5.000000  5.000000  5.000000  5.000000\n",
              "mean   0.583692  0.360699  0.688264  0.504012\n",
              "std    0.304787  0.202594  0.245624  0.387475\n",
              "min    0.222496  0.044688  0.340890  0.063322\n",
              "25%    0.281376  0.328135  0.565682  0.140668\n",
              "50%    0.760718  0.404393  0.702974  0.574279\n",
              "75%    0.821839  0.426918  0.885978  0.861549\n",
              "max    0.832029  0.599362  0.945796  0.880243"
            ]
          },
          "metadata": {},
          "execution_count": 80
        }
      ]
    },
    {
      "cell_type": "code",
      "metadata": {
        "colab": {
          "base_uri": "https://localhost:8080/",
          "height": 204
        },
        "id": "lEEa8sSh6JIz",
        "outputId": "73947b1d-7cd7-4920-8ba6-933caf499b44"
      },
      "source": [
        "df.sort_index(axis=0, ascending=False)"
      ],
      "execution_count": 81,
      "outputs": [
        {
          "output_type": "execute_result",
          "data": {
            "text/html": [
              "<div>\n",
              "<style scoped>\n",
              "    .dataframe tbody tr th:only-of-type {\n",
              "        vertical-align: middle;\n",
              "    }\n",
              "\n",
              "    .dataframe tbody tr th {\n",
              "        vertical-align: top;\n",
              "    }\n",
              "\n",
              "    .dataframe thead th {\n",
              "        text-align: right;\n",
              "    }\n",
              "</style>\n",
              "<table border=\"1\" class=\"dataframe\">\n",
              "  <thead>\n",
              "    <tr style=\"text-align: right;\">\n",
              "      <th></th>\n",
              "      <th>A</th>\n",
              "      <th>B</th>\n",
              "      <th>C</th>\n",
              "      <th>D</th>\n",
              "    </tr>\n",
              "  </thead>\n",
              "  <tbody>\n",
              "    <tr>\n",
              "      <th>2021-11-18</th>\n",
              "      <td>0.821839</td>\n",
              "      <td>0.426918</td>\n",
              "      <td>0.565682</td>\n",
              "      <td>0.063322</td>\n",
              "    </tr>\n",
              "    <tr>\n",
              "      <th>2021-11-17</th>\n",
              "      <td>0.760718</td>\n",
              "      <td>0.328135</td>\n",
              "      <td>0.702974</td>\n",
              "      <td>0.140668</td>\n",
              "    </tr>\n",
              "    <tr>\n",
              "      <th>2021-11-16</th>\n",
              "      <td>0.281376</td>\n",
              "      <td>0.404393</td>\n",
              "      <td>0.885978</td>\n",
              "      <td>0.861549</td>\n",
              "    </tr>\n",
              "    <tr>\n",
              "      <th>2021-11-15</th>\n",
              "      <td>0.832029</td>\n",
              "      <td>0.044688</td>\n",
              "      <td>0.340890</td>\n",
              "      <td>0.574279</td>\n",
              "    </tr>\n",
              "    <tr>\n",
              "      <th>2021-11-14</th>\n",
              "      <td>0.222496</td>\n",
              "      <td>0.599362</td>\n",
              "      <td>0.945796</td>\n",
              "      <td>0.880243</td>\n",
              "    </tr>\n",
              "  </tbody>\n",
              "</table>\n",
              "</div>"
            ],
            "text/plain": [
              "                   A         B         C         D\n",
              "2021-11-18  0.821839  0.426918  0.565682  0.063322\n",
              "2021-11-17  0.760718  0.328135  0.702974  0.140668\n",
              "2021-11-16  0.281376  0.404393  0.885978  0.861549\n",
              "2021-11-15  0.832029  0.044688  0.340890  0.574279\n",
              "2021-11-14  0.222496  0.599362  0.945796  0.880243"
            ]
          },
          "metadata": {},
          "execution_count": 81
        }
      ]
    },
    {
      "cell_type": "code",
      "metadata": {
        "id": "0fF6cAFW7Sqb",
        "colab": {
          "base_uri": "https://localhost:8080/",
          "height": 204
        },
        "outputId": "e96484c9-7b00-4f3a-95da-96dc232b15d4"
      },
      "source": [
        "df.sort_values(by=\"A\")"
      ],
      "execution_count": 82,
      "outputs": [
        {
          "output_type": "execute_result",
          "data": {
            "text/html": [
              "<div>\n",
              "<style scoped>\n",
              "    .dataframe tbody tr th:only-of-type {\n",
              "        vertical-align: middle;\n",
              "    }\n",
              "\n",
              "    .dataframe tbody tr th {\n",
              "        vertical-align: top;\n",
              "    }\n",
              "\n",
              "    .dataframe thead th {\n",
              "        text-align: right;\n",
              "    }\n",
              "</style>\n",
              "<table border=\"1\" class=\"dataframe\">\n",
              "  <thead>\n",
              "    <tr style=\"text-align: right;\">\n",
              "      <th></th>\n",
              "      <th>A</th>\n",
              "      <th>B</th>\n",
              "      <th>C</th>\n",
              "      <th>D</th>\n",
              "    </tr>\n",
              "  </thead>\n",
              "  <tbody>\n",
              "    <tr>\n",
              "      <th>2021-11-14</th>\n",
              "      <td>0.222496</td>\n",
              "      <td>0.599362</td>\n",
              "      <td>0.945796</td>\n",
              "      <td>0.880243</td>\n",
              "    </tr>\n",
              "    <tr>\n",
              "      <th>2021-11-16</th>\n",
              "      <td>0.281376</td>\n",
              "      <td>0.404393</td>\n",
              "      <td>0.885978</td>\n",
              "      <td>0.861549</td>\n",
              "    </tr>\n",
              "    <tr>\n",
              "      <th>2021-11-17</th>\n",
              "      <td>0.760718</td>\n",
              "      <td>0.328135</td>\n",
              "      <td>0.702974</td>\n",
              "      <td>0.140668</td>\n",
              "    </tr>\n",
              "    <tr>\n",
              "      <th>2021-11-18</th>\n",
              "      <td>0.821839</td>\n",
              "      <td>0.426918</td>\n",
              "      <td>0.565682</td>\n",
              "      <td>0.063322</td>\n",
              "    </tr>\n",
              "    <tr>\n",
              "      <th>2021-11-15</th>\n",
              "      <td>0.832029</td>\n",
              "      <td>0.044688</td>\n",
              "      <td>0.340890</td>\n",
              "      <td>0.574279</td>\n",
              "    </tr>\n",
              "  </tbody>\n",
              "</table>\n",
              "</div>"
            ],
            "text/plain": [
              "                   A         B         C         D\n",
              "2021-11-14  0.222496  0.599362  0.945796  0.880243\n",
              "2021-11-16  0.281376  0.404393  0.885978  0.861549\n",
              "2021-11-17  0.760718  0.328135  0.702974  0.140668\n",
              "2021-11-18  0.821839  0.426918  0.565682  0.063322\n",
              "2021-11-15  0.832029  0.044688  0.340890  0.574279"
            ]
          },
          "metadata": {},
          "execution_count": 82
        }
      ]
    },
    {
      "cell_type": "code",
      "metadata": {
        "id": "i-voIQE9AQtB",
        "colab": {
          "base_uri": "https://localhost:8080/"
        },
        "outputId": "f695a2e7-c7c2-41d7-b020-e92603c12baf"
      },
      "source": [
        "df[\"A\"]"
      ],
      "execution_count": 83,
      "outputs": [
        {
          "output_type": "execute_result",
          "data": {
            "text/plain": [
              "2021-11-14    0.222496\n",
              "2021-11-15    0.832029\n",
              "2021-11-16    0.281376\n",
              "2021-11-17    0.760718\n",
              "2021-11-18    0.821839\n",
              "Freq: D, Name: A, dtype: float64"
            ]
          },
          "metadata": {},
          "execution_count": 83
        }
      ]
    },
    {
      "cell_type": "code",
      "metadata": {
        "id": "9P6RslsXAWMy",
        "colab": {
          "base_uri": "https://localhost:8080/",
          "height": 142
        },
        "outputId": "6fe59830-e7cf-40cb-f279-b16fa43b161b"
      },
      "source": [
        "df[0:3]"
      ],
      "execution_count": 84,
      "outputs": [
        {
          "output_type": "execute_result",
          "data": {
            "text/html": [
              "<div>\n",
              "<style scoped>\n",
              "    .dataframe tbody tr th:only-of-type {\n",
              "        vertical-align: middle;\n",
              "    }\n",
              "\n",
              "    .dataframe tbody tr th {\n",
              "        vertical-align: top;\n",
              "    }\n",
              "\n",
              "    .dataframe thead th {\n",
              "        text-align: right;\n",
              "    }\n",
              "</style>\n",
              "<table border=\"1\" class=\"dataframe\">\n",
              "  <thead>\n",
              "    <tr style=\"text-align: right;\">\n",
              "      <th></th>\n",
              "      <th>A</th>\n",
              "      <th>B</th>\n",
              "      <th>C</th>\n",
              "      <th>D</th>\n",
              "    </tr>\n",
              "  </thead>\n",
              "  <tbody>\n",
              "    <tr>\n",
              "      <th>2021-11-14</th>\n",
              "      <td>0.222496</td>\n",
              "      <td>0.599362</td>\n",
              "      <td>0.945796</td>\n",
              "      <td>0.880243</td>\n",
              "    </tr>\n",
              "    <tr>\n",
              "      <th>2021-11-15</th>\n",
              "      <td>0.832029</td>\n",
              "      <td>0.044688</td>\n",
              "      <td>0.340890</td>\n",
              "      <td>0.574279</td>\n",
              "    </tr>\n",
              "    <tr>\n",
              "      <th>2021-11-16</th>\n",
              "      <td>0.281376</td>\n",
              "      <td>0.404393</td>\n",
              "      <td>0.885978</td>\n",
              "      <td>0.861549</td>\n",
              "    </tr>\n",
              "  </tbody>\n",
              "</table>\n",
              "</div>"
            ],
            "text/plain": [
              "                   A         B         C         D\n",
              "2021-11-14  0.222496  0.599362  0.945796  0.880243\n",
              "2021-11-15  0.832029  0.044688  0.340890  0.574279\n",
              "2021-11-16  0.281376  0.404393  0.885978  0.861549"
            ]
          },
          "metadata": {},
          "execution_count": 84
        }
      ]
    },
    {
      "cell_type": "code",
      "metadata": {
        "id": "kUkOkqBVAltS",
        "colab": {
          "base_uri": "https://localhost:8080/",
          "height": 111
        },
        "outputId": "99c5fc15-1e68-471e-c0b7-0f032ab4e2cd"
      },
      "source": [
        "df[1:3]"
      ],
      "execution_count": 85,
      "outputs": [
        {
          "output_type": "execute_result",
          "data": {
            "text/html": [
              "<div>\n",
              "<style scoped>\n",
              "    .dataframe tbody tr th:only-of-type {\n",
              "        vertical-align: middle;\n",
              "    }\n",
              "\n",
              "    .dataframe tbody tr th {\n",
              "        vertical-align: top;\n",
              "    }\n",
              "\n",
              "    .dataframe thead th {\n",
              "        text-align: right;\n",
              "    }\n",
              "</style>\n",
              "<table border=\"1\" class=\"dataframe\">\n",
              "  <thead>\n",
              "    <tr style=\"text-align: right;\">\n",
              "      <th></th>\n",
              "      <th>A</th>\n",
              "      <th>B</th>\n",
              "      <th>C</th>\n",
              "      <th>D</th>\n",
              "    </tr>\n",
              "  </thead>\n",
              "  <tbody>\n",
              "    <tr>\n",
              "      <th>2021-11-15</th>\n",
              "      <td>0.832029</td>\n",
              "      <td>0.044688</td>\n",
              "      <td>0.340890</td>\n",
              "      <td>0.574279</td>\n",
              "    </tr>\n",
              "    <tr>\n",
              "      <th>2021-11-16</th>\n",
              "      <td>0.281376</td>\n",
              "      <td>0.404393</td>\n",
              "      <td>0.885978</td>\n",
              "      <td>0.861549</td>\n",
              "    </tr>\n",
              "  </tbody>\n",
              "</table>\n",
              "</div>"
            ],
            "text/plain": [
              "                   A         B         C         D\n",
              "2021-11-15  0.832029  0.044688  0.340890  0.574279\n",
              "2021-11-16  0.281376  0.404393  0.885978  0.861549"
            ]
          },
          "metadata": {},
          "execution_count": 85
        }
      ]
    },
    {
      "cell_type": "code",
      "metadata": {
        "id": "lr2IySKmEyud",
        "colab": {
          "base_uri": "https://localhost:8080/",
          "height": 204
        },
        "outputId": "696a2a3a-1985-4885-a3ec-f94c4ec406bb"
      },
      "source": [
        "df\n"
      ],
      "execution_count": 86,
      "outputs": [
        {
          "output_type": "execute_result",
          "data": {
            "text/html": [
              "<div>\n",
              "<style scoped>\n",
              "    .dataframe tbody tr th:only-of-type {\n",
              "        vertical-align: middle;\n",
              "    }\n",
              "\n",
              "    .dataframe tbody tr th {\n",
              "        vertical-align: top;\n",
              "    }\n",
              "\n",
              "    .dataframe thead th {\n",
              "        text-align: right;\n",
              "    }\n",
              "</style>\n",
              "<table border=\"1\" class=\"dataframe\">\n",
              "  <thead>\n",
              "    <tr style=\"text-align: right;\">\n",
              "      <th></th>\n",
              "      <th>A</th>\n",
              "      <th>B</th>\n",
              "      <th>C</th>\n",
              "      <th>D</th>\n",
              "    </tr>\n",
              "  </thead>\n",
              "  <tbody>\n",
              "    <tr>\n",
              "      <th>2021-11-14</th>\n",
              "      <td>0.222496</td>\n",
              "      <td>0.599362</td>\n",
              "      <td>0.945796</td>\n",
              "      <td>0.880243</td>\n",
              "    </tr>\n",
              "    <tr>\n",
              "      <th>2021-11-15</th>\n",
              "      <td>0.832029</td>\n",
              "      <td>0.044688</td>\n",
              "      <td>0.340890</td>\n",
              "      <td>0.574279</td>\n",
              "    </tr>\n",
              "    <tr>\n",
              "      <th>2021-11-16</th>\n",
              "      <td>0.281376</td>\n",
              "      <td>0.404393</td>\n",
              "      <td>0.885978</td>\n",
              "      <td>0.861549</td>\n",
              "    </tr>\n",
              "    <tr>\n",
              "      <th>2021-11-17</th>\n",
              "      <td>0.760718</td>\n",
              "      <td>0.328135</td>\n",
              "      <td>0.702974</td>\n",
              "      <td>0.140668</td>\n",
              "    </tr>\n",
              "    <tr>\n",
              "      <th>2021-11-18</th>\n",
              "      <td>0.821839</td>\n",
              "      <td>0.426918</td>\n",
              "      <td>0.565682</td>\n",
              "      <td>0.063322</td>\n",
              "    </tr>\n",
              "  </tbody>\n",
              "</table>\n",
              "</div>"
            ],
            "text/plain": [
              "                   A         B         C         D\n",
              "2021-11-14  0.222496  0.599362  0.945796  0.880243\n",
              "2021-11-15  0.832029  0.044688  0.340890  0.574279\n",
              "2021-11-16  0.281376  0.404393  0.885978  0.861549\n",
              "2021-11-17  0.760718  0.328135  0.702974  0.140668\n",
              "2021-11-18  0.821839  0.426918  0.565682  0.063322"
            ]
          },
          "metadata": {},
          "execution_count": 86
        }
      ]
    },
    {
      "cell_type": "code",
      "metadata": {
        "colab": {
          "base_uri": "https://localhost:8080/"
        },
        "id": "ybL3Bxqh99fE",
        "outputId": "1cb6ce2a-2375-4c19-8c7f-765d2c99676f"
      },
      "source": [
        "df.iloc[1,1]"
      ],
      "execution_count": 87,
      "outputs": [
        {
          "output_type": "execute_result",
          "data": {
            "text/plain": [
              "0.04468782646468028"
            ]
          },
          "metadata": {},
          "execution_count": 87
        }
      ]
    },
    {
      "cell_type": "code",
      "metadata": {
        "colab": {
          "base_uri": "https://localhost:8080/",
          "height": 204
        },
        "id": "nZl2QVi_-ExZ",
        "outputId": "b40fef86-c323-41d8-e5f8-f7600c726f8a"
      },
      "source": [
        "df.iloc[:, 1:3]"
      ],
      "execution_count": 88,
      "outputs": [
        {
          "output_type": "execute_result",
          "data": {
            "text/html": [
              "<div>\n",
              "<style scoped>\n",
              "    .dataframe tbody tr th:only-of-type {\n",
              "        vertical-align: middle;\n",
              "    }\n",
              "\n",
              "    .dataframe tbody tr th {\n",
              "        vertical-align: top;\n",
              "    }\n",
              "\n",
              "    .dataframe thead th {\n",
              "        text-align: right;\n",
              "    }\n",
              "</style>\n",
              "<table border=\"1\" class=\"dataframe\">\n",
              "  <thead>\n",
              "    <tr style=\"text-align: right;\">\n",
              "      <th></th>\n",
              "      <th>B</th>\n",
              "      <th>C</th>\n",
              "    </tr>\n",
              "  </thead>\n",
              "  <tbody>\n",
              "    <tr>\n",
              "      <th>2021-11-14</th>\n",
              "      <td>0.599362</td>\n",
              "      <td>0.945796</td>\n",
              "    </tr>\n",
              "    <tr>\n",
              "      <th>2021-11-15</th>\n",
              "      <td>0.044688</td>\n",
              "      <td>0.340890</td>\n",
              "    </tr>\n",
              "    <tr>\n",
              "      <th>2021-11-16</th>\n",
              "      <td>0.404393</td>\n",
              "      <td>0.885978</td>\n",
              "    </tr>\n",
              "    <tr>\n",
              "      <th>2021-11-17</th>\n",
              "      <td>0.328135</td>\n",
              "      <td>0.702974</td>\n",
              "    </tr>\n",
              "    <tr>\n",
              "      <th>2021-11-18</th>\n",
              "      <td>0.426918</td>\n",
              "      <td>0.565682</td>\n",
              "    </tr>\n",
              "  </tbody>\n",
              "</table>\n",
              "</div>"
            ],
            "text/plain": [
              "                   B         C\n",
              "2021-11-14  0.599362  0.945796\n",
              "2021-11-15  0.044688  0.340890\n",
              "2021-11-16  0.404393  0.885978\n",
              "2021-11-17  0.328135  0.702974\n",
              "2021-11-18  0.426918  0.565682"
            ]
          },
          "metadata": {},
          "execution_count": 88
        }
      ]
    },
    {
      "cell_type": "code",
      "metadata": {
        "colab": {
          "base_uri": "https://localhost:8080/",
          "height": 204
        },
        "id": "Mu96BDKA-L3B",
        "outputId": "593f0a95-1ae8-4da5-bfc9-524b8132d3c2"
      },
      "source": [
        "df>0"
      ],
      "execution_count": 89,
      "outputs": [
        {
          "output_type": "execute_result",
          "data": {
            "text/html": [
              "<div>\n",
              "<style scoped>\n",
              "    .dataframe tbody tr th:only-of-type {\n",
              "        vertical-align: middle;\n",
              "    }\n",
              "\n",
              "    .dataframe tbody tr th {\n",
              "        vertical-align: top;\n",
              "    }\n",
              "\n",
              "    .dataframe thead th {\n",
              "        text-align: right;\n",
              "    }\n",
              "</style>\n",
              "<table border=\"1\" class=\"dataframe\">\n",
              "  <thead>\n",
              "    <tr style=\"text-align: right;\">\n",
              "      <th></th>\n",
              "      <th>A</th>\n",
              "      <th>B</th>\n",
              "      <th>C</th>\n",
              "      <th>D</th>\n",
              "    </tr>\n",
              "  </thead>\n",
              "  <tbody>\n",
              "    <tr>\n",
              "      <th>2021-11-14</th>\n",
              "      <td>True</td>\n",
              "      <td>True</td>\n",
              "      <td>True</td>\n",
              "      <td>True</td>\n",
              "    </tr>\n",
              "    <tr>\n",
              "      <th>2021-11-15</th>\n",
              "      <td>True</td>\n",
              "      <td>True</td>\n",
              "      <td>True</td>\n",
              "      <td>True</td>\n",
              "    </tr>\n",
              "    <tr>\n",
              "      <th>2021-11-16</th>\n",
              "      <td>True</td>\n",
              "      <td>True</td>\n",
              "      <td>True</td>\n",
              "      <td>True</td>\n",
              "    </tr>\n",
              "    <tr>\n",
              "      <th>2021-11-17</th>\n",
              "      <td>True</td>\n",
              "      <td>True</td>\n",
              "      <td>True</td>\n",
              "      <td>True</td>\n",
              "    </tr>\n",
              "    <tr>\n",
              "      <th>2021-11-18</th>\n",
              "      <td>True</td>\n",
              "      <td>True</td>\n",
              "      <td>True</td>\n",
              "      <td>True</td>\n",
              "    </tr>\n",
              "  </tbody>\n",
              "</table>\n",
              "</div>"
            ],
            "text/plain": [
              "               A     B     C     D\n",
              "2021-11-14  True  True  True  True\n",
              "2021-11-15  True  True  True  True\n",
              "2021-11-16  True  True  True  True\n",
              "2021-11-17  True  True  True  True\n",
              "2021-11-18  True  True  True  True"
            ]
          },
          "metadata": {},
          "execution_count": 89
        }
      ]
    },
    {
      "cell_type": "code",
      "metadata": {
        "colab": {
          "base_uri": "https://localhost:8080/",
          "height": 204
        },
        "id": "8QCwFeY2-TMK",
        "outputId": "57604488-6abd-44ea-dafb-0b0bd4c8cd95"
      },
      "source": [
        "df1=df.copy()\n",
        "df1\n"
      ],
      "execution_count": 90,
      "outputs": [
        {
          "output_type": "execute_result",
          "data": {
            "text/html": [
              "<div>\n",
              "<style scoped>\n",
              "    .dataframe tbody tr th:only-of-type {\n",
              "        vertical-align: middle;\n",
              "    }\n",
              "\n",
              "    .dataframe tbody tr th {\n",
              "        vertical-align: top;\n",
              "    }\n",
              "\n",
              "    .dataframe thead th {\n",
              "        text-align: right;\n",
              "    }\n",
              "</style>\n",
              "<table border=\"1\" class=\"dataframe\">\n",
              "  <thead>\n",
              "    <tr style=\"text-align: right;\">\n",
              "      <th></th>\n",
              "      <th>A</th>\n",
              "      <th>B</th>\n",
              "      <th>C</th>\n",
              "      <th>D</th>\n",
              "    </tr>\n",
              "  </thead>\n",
              "  <tbody>\n",
              "    <tr>\n",
              "      <th>2021-11-14</th>\n",
              "      <td>0.222496</td>\n",
              "      <td>0.599362</td>\n",
              "      <td>0.945796</td>\n",
              "      <td>0.880243</td>\n",
              "    </tr>\n",
              "    <tr>\n",
              "      <th>2021-11-15</th>\n",
              "      <td>0.832029</td>\n",
              "      <td>0.044688</td>\n",
              "      <td>0.340890</td>\n",
              "      <td>0.574279</td>\n",
              "    </tr>\n",
              "    <tr>\n",
              "      <th>2021-11-16</th>\n",
              "      <td>0.281376</td>\n",
              "      <td>0.404393</td>\n",
              "      <td>0.885978</td>\n",
              "      <td>0.861549</td>\n",
              "    </tr>\n",
              "    <tr>\n",
              "      <th>2021-11-17</th>\n",
              "      <td>0.760718</td>\n",
              "      <td>0.328135</td>\n",
              "      <td>0.702974</td>\n",
              "      <td>0.140668</td>\n",
              "    </tr>\n",
              "    <tr>\n",
              "      <th>2021-11-18</th>\n",
              "      <td>0.821839</td>\n",
              "      <td>0.426918</td>\n",
              "      <td>0.565682</td>\n",
              "      <td>0.063322</td>\n",
              "    </tr>\n",
              "  </tbody>\n",
              "</table>\n",
              "</div>"
            ],
            "text/plain": [
              "                   A         B         C         D\n",
              "2021-11-14  0.222496  0.599362  0.945796  0.880243\n",
              "2021-11-15  0.832029  0.044688  0.340890  0.574279\n",
              "2021-11-16  0.281376  0.404393  0.885978  0.861549\n",
              "2021-11-17  0.760718  0.328135  0.702974  0.140668\n",
              "2021-11-18  0.821839  0.426918  0.565682  0.063322"
            ]
          },
          "metadata": {},
          "execution_count": 90
        }
      ]
    },
    {
      "cell_type": "code",
      "metadata": {
        "colab": {
          "base_uri": "https://localhost:8080/",
          "height": 204
        },
        "id": "HCv_2ikg_Cw3",
        "outputId": "f5f49d2e-f479-48ac-d9fa-a50e5337dd2d"
      },
      "source": [
        "df1[\"E\"]=[\"a\",\"e\",np.nan,\"i\",\"o\"]\n",
        "df1"
      ],
      "execution_count": 91,
      "outputs": [
        {
          "output_type": "execute_result",
          "data": {
            "text/html": [
              "<div>\n",
              "<style scoped>\n",
              "    .dataframe tbody tr th:only-of-type {\n",
              "        vertical-align: middle;\n",
              "    }\n",
              "\n",
              "    .dataframe tbody tr th {\n",
              "        vertical-align: top;\n",
              "    }\n",
              "\n",
              "    .dataframe thead th {\n",
              "        text-align: right;\n",
              "    }\n",
              "</style>\n",
              "<table border=\"1\" class=\"dataframe\">\n",
              "  <thead>\n",
              "    <tr style=\"text-align: right;\">\n",
              "      <th></th>\n",
              "      <th>A</th>\n",
              "      <th>B</th>\n",
              "      <th>C</th>\n",
              "      <th>D</th>\n",
              "      <th>E</th>\n",
              "    </tr>\n",
              "  </thead>\n",
              "  <tbody>\n",
              "    <tr>\n",
              "      <th>2021-11-14</th>\n",
              "      <td>0.222496</td>\n",
              "      <td>0.599362</td>\n",
              "      <td>0.945796</td>\n",
              "      <td>0.880243</td>\n",
              "      <td>a</td>\n",
              "    </tr>\n",
              "    <tr>\n",
              "      <th>2021-11-15</th>\n",
              "      <td>0.832029</td>\n",
              "      <td>0.044688</td>\n",
              "      <td>0.340890</td>\n",
              "      <td>0.574279</td>\n",
              "      <td>e</td>\n",
              "    </tr>\n",
              "    <tr>\n",
              "      <th>2021-11-16</th>\n",
              "      <td>0.281376</td>\n",
              "      <td>0.404393</td>\n",
              "      <td>0.885978</td>\n",
              "      <td>0.861549</td>\n",
              "      <td>NaN</td>\n",
              "    </tr>\n",
              "    <tr>\n",
              "      <th>2021-11-17</th>\n",
              "      <td>0.760718</td>\n",
              "      <td>0.328135</td>\n",
              "      <td>0.702974</td>\n",
              "      <td>0.140668</td>\n",
              "      <td>i</td>\n",
              "    </tr>\n",
              "    <tr>\n",
              "      <th>2021-11-18</th>\n",
              "      <td>0.821839</td>\n",
              "      <td>0.426918</td>\n",
              "      <td>0.565682</td>\n",
              "      <td>0.063322</td>\n",
              "      <td>o</td>\n",
              "    </tr>\n",
              "  </tbody>\n",
              "</table>\n",
              "</div>"
            ],
            "text/plain": [
              "                   A         B         C         D    E\n",
              "2021-11-14  0.222496  0.599362  0.945796  0.880243    a\n",
              "2021-11-15  0.832029  0.044688  0.340890  0.574279    e\n",
              "2021-11-16  0.281376  0.404393  0.885978  0.861549  NaN\n",
              "2021-11-17  0.760718  0.328135  0.702974  0.140668    i\n",
              "2021-11-18  0.821839  0.426918  0.565682  0.063322    o"
            ]
          },
          "metadata": {},
          "execution_count": 91
        }
      ]
    },
    {
      "cell_type": "code",
      "metadata": {
        "colab": {
          "base_uri": "https://localhost:8080/",
          "height": 204
        },
        "id": "vqQ6CwjB_QBj",
        "outputId": "2a25eb57-0884-48bc-dcb9-c750f4a10752"
      },
      "source": [
        "df1.fillna(2)"
      ],
      "execution_count": 92,
      "outputs": [
        {
          "output_type": "execute_result",
          "data": {
            "text/html": [
              "<div>\n",
              "<style scoped>\n",
              "    .dataframe tbody tr th:only-of-type {\n",
              "        vertical-align: middle;\n",
              "    }\n",
              "\n",
              "    .dataframe tbody tr th {\n",
              "        vertical-align: top;\n",
              "    }\n",
              "\n",
              "    .dataframe thead th {\n",
              "        text-align: right;\n",
              "    }\n",
              "</style>\n",
              "<table border=\"1\" class=\"dataframe\">\n",
              "  <thead>\n",
              "    <tr style=\"text-align: right;\">\n",
              "      <th></th>\n",
              "      <th>A</th>\n",
              "      <th>B</th>\n",
              "      <th>C</th>\n",
              "      <th>D</th>\n",
              "      <th>E</th>\n",
              "    </tr>\n",
              "  </thead>\n",
              "  <tbody>\n",
              "    <tr>\n",
              "      <th>2021-11-14</th>\n",
              "      <td>0.222496</td>\n",
              "      <td>0.599362</td>\n",
              "      <td>0.945796</td>\n",
              "      <td>0.880243</td>\n",
              "      <td>a</td>\n",
              "    </tr>\n",
              "    <tr>\n",
              "      <th>2021-11-15</th>\n",
              "      <td>0.832029</td>\n",
              "      <td>0.044688</td>\n",
              "      <td>0.340890</td>\n",
              "      <td>0.574279</td>\n",
              "      <td>e</td>\n",
              "    </tr>\n",
              "    <tr>\n",
              "      <th>2021-11-16</th>\n",
              "      <td>0.281376</td>\n",
              "      <td>0.404393</td>\n",
              "      <td>0.885978</td>\n",
              "      <td>0.861549</td>\n",
              "      <td>2</td>\n",
              "    </tr>\n",
              "    <tr>\n",
              "      <th>2021-11-17</th>\n",
              "      <td>0.760718</td>\n",
              "      <td>0.328135</td>\n",
              "      <td>0.702974</td>\n",
              "      <td>0.140668</td>\n",
              "      <td>i</td>\n",
              "    </tr>\n",
              "    <tr>\n",
              "      <th>2021-11-18</th>\n",
              "      <td>0.821839</td>\n",
              "      <td>0.426918</td>\n",
              "      <td>0.565682</td>\n",
              "      <td>0.063322</td>\n",
              "      <td>o</td>\n",
              "    </tr>\n",
              "  </tbody>\n",
              "</table>\n",
              "</div>"
            ],
            "text/plain": [
              "                   A         B         C         D  E\n",
              "2021-11-14  0.222496  0.599362  0.945796  0.880243  a\n",
              "2021-11-15  0.832029  0.044688  0.340890  0.574279  e\n",
              "2021-11-16  0.281376  0.404393  0.885978  0.861549  2\n",
              "2021-11-17  0.760718  0.328135  0.702974  0.140668  i\n",
              "2021-11-18  0.821839  0.426918  0.565682  0.063322  o"
            ]
          },
          "metadata": {},
          "execution_count": 92
        }
      ]
    },
    {
      "cell_type": "code",
      "metadata": {
        "id": "9yWkwD02AHbW"
      },
      "source": [
        "df1=df1.iloc[1:4, 0:3]\n",
        "\n"
      ],
      "execution_count": 93,
      "outputs": []
    },
    {
      "cell_type": "code",
      "metadata": {
        "colab": {
          "base_uri": "https://localhost:8080/",
          "height": 142
        },
        "id": "9v27cdMACR_h",
        "outputId": "9089aca1-f6fe-45df-e39f-6fa3d1826233"
      },
      "source": [
        "df1.apply(np.cumsum)"
      ],
      "execution_count": 94,
      "outputs": [
        {
          "output_type": "execute_result",
          "data": {
            "text/html": [
              "<div>\n",
              "<style scoped>\n",
              "    .dataframe tbody tr th:only-of-type {\n",
              "        vertical-align: middle;\n",
              "    }\n",
              "\n",
              "    .dataframe tbody tr th {\n",
              "        vertical-align: top;\n",
              "    }\n",
              "\n",
              "    .dataframe thead th {\n",
              "        text-align: right;\n",
              "    }\n",
              "</style>\n",
              "<table border=\"1\" class=\"dataframe\">\n",
              "  <thead>\n",
              "    <tr style=\"text-align: right;\">\n",
              "      <th></th>\n",
              "      <th>A</th>\n",
              "      <th>B</th>\n",
              "      <th>C</th>\n",
              "    </tr>\n",
              "  </thead>\n",
              "  <tbody>\n",
              "    <tr>\n",
              "      <th>2021-11-15</th>\n",
              "      <td>0.832029</td>\n",
              "      <td>0.044688</td>\n",
              "      <td>0.340890</td>\n",
              "    </tr>\n",
              "    <tr>\n",
              "      <th>2021-11-16</th>\n",
              "      <td>1.113405</td>\n",
              "      <td>0.449081</td>\n",
              "      <td>1.226867</td>\n",
              "    </tr>\n",
              "    <tr>\n",
              "      <th>2021-11-17</th>\n",
              "      <td>1.874123</td>\n",
              "      <td>0.777216</td>\n",
              "      <td>1.929841</td>\n",
              "    </tr>\n",
              "  </tbody>\n",
              "</table>\n",
              "</div>"
            ],
            "text/plain": [
              "                   A         B         C\n",
              "2021-11-15  0.832029  0.044688  0.340890\n",
              "2021-11-16  1.113405  0.449081  1.226867\n",
              "2021-11-17  1.874123  0.777216  1.929841"
            ]
          },
          "metadata": {},
          "execution_count": 94
        }
      ]
    },
    {
      "cell_type": "code",
      "metadata": {
        "colab": {
          "base_uri": "https://localhost:8080/",
          "height": 204
        },
        "id": "zpI7h1FYayTQ",
        "outputId": "3611baaf-c084-4a25-dcc2-baeced034f99"
      },
      "source": [
        "df2=pd.DataFrame(np.random.randn(10,4))\n",
        "df"
      ],
      "execution_count": 99,
      "outputs": [
        {
          "output_type": "execute_result",
          "data": {
            "text/html": [
              "<div>\n",
              "<style scoped>\n",
              "    .dataframe tbody tr th:only-of-type {\n",
              "        vertical-align: middle;\n",
              "    }\n",
              "\n",
              "    .dataframe tbody tr th {\n",
              "        vertical-align: top;\n",
              "    }\n",
              "\n",
              "    .dataframe thead th {\n",
              "        text-align: right;\n",
              "    }\n",
              "</style>\n",
              "<table border=\"1\" class=\"dataframe\">\n",
              "  <thead>\n",
              "    <tr style=\"text-align: right;\">\n",
              "      <th></th>\n",
              "      <th>A</th>\n",
              "      <th>B</th>\n",
              "      <th>C</th>\n",
              "      <th>D</th>\n",
              "    </tr>\n",
              "  </thead>\n",
              "  <tbody>\n",
              "    <tr>\n",
              "      <th>2021-11-14</th>\n",
              "      <td>0.222496</td>\n",
              "      <td>0.599362</td>\n",
              "      <td>0.945796</td>\n",
              "      <td>0.880243</td>\n",
              "    </tr>\n",
              "    <tr>\n",
              "      <th>2021-11-15</th>\n",
              "      <td>0.832029</td>\n",
              "      <td>0.044688</td>\n",
              "      <td>0.340890</td>\n",
              "      <td>0.574279</td>\n",
              "    </tr>\n",
              "    <tr>\n",
              "      <th>2021-11-16</th>\n",
              "      <td>0.281376</td>\n",
              "      <td>0.404393</td>\n",
              "      <td>0.885978</td>\n",
              "      <td>0.861549</td>\n",
              "    </tr>\n",
              "    <tr>\n",
              "      <th>2021-11-17</th>\n",
              "      <td>0.760718</td>\n",
              "      <td>0.328135</td>\n",
              "      <td>0.702974</td>\n",
              "      <td>0.140668</td>\n",
              "    </tr>\n",
              "    <tr>\n",
              "      <th>2021-11-18</th>\n",
              "      <td>0.821839</td>\n",
              "      <td>0.426918</td>\n",
              "      <td>0.565682</td>\n",
              "      <td>0.063322</td>\n",
              "    </tr>\n",
              "  </tbody>\n",
              "</table>\n",
              "</div>"
            ],
            "text/plain": [
              "                   A         B         C         D\n",
              "2021-11-14  0.222496  0.599362  0.945796  0.880243\n",
              "2021-11-15  0.832029  0.044688  0.340890  0.574279\n",
              "2021-11-16  0.281376  0.404393  0.885978  0.861549\n",
              "2021-11-17  0.760718  0.328135  0.702974  0.140668\n",
              "2021-11-18  0.821839  0.426918  0.565682  0.063322"
            ]
          },
          "metadata": {},
          "execution_count": 99
        }
      ]
    },
    {
      "cell_type": "code",
      "metadata": {
        "colab": {
          "base_uri": "https://localhost:8080/",
          "height": 173
        },
        "id": "i5j4WpcfbXvI",
        "outputId": "95387dcf-fe36-4e00-be23-22de156cbc4e"
      },
      "source": [
        "pieces=[df[:2],df[1:3]]\n",
        "pd.concat(pieces)"
      ],
      "execution_count": 101,
      "outputs": [
        {
          "output_type": "execute_result",
          "data": {
            "text/html": [
              "<div>\n",
              "<style scoped>\n",
              "    .dataframe tbody tr th:only-of-type {\n",
              "        vertical-align: middle;\n",
              "    }\n",
              "\n",
              "    .dataframe tbody tr th {\n",
              "        vertical-align: top;\n",
              "    }\n",
              "\n",
              "    .dataframe thead th {\n",
              "        text-align: right;\n",
              "    }\n",
              "</style>\n",
              "<table border=\"1\" class=\"dataframe\">\n",
              "  <thead>\n",
              "    <tr style=\"text-align: right;\">\n",
              "      <th></th>\n",
              "      <th>A</th>\n",
              "      <th>B</th>\n",
              "      <th>C</th>\n",
              "      <th>D</th>\n",
              "    </tr>\n",
              "  </thead>\n",
              "  <tbody>\n",
              "    <tr>\n",
              "      <th>2021-11-14</th>\n",
              "      <td>0.222496</td>\n",
              "      <td>0.599362</td>\n",
              "      <td>0.945796</td>\n",
              "      <td>0.880243</td>\n",
              "    </tr>\n",
              "    <tr>\n",
              "      <th>2021-11-15</th>\n",
              "      <td>0.832029</td>\n",
              "      <td>0.044688</td>\n",
              "      <td>0.340890</td>\n",
              "      <td>0.574279</td>\n",
              "    </tr>\n",
              "    <tr>\n",
              "      <th>2021-11-15</th>\n",
              "      <td>0.832029</td>\n",
              "      <td>0.044688</td>\n",
              "      <td>0.340890</td>\n",
              "      <td>0.574279</td>\n",
              "    </tr>\n",
              "    <tr>\n",
              "      <th>2021-11-16</th>\n",
              "      <td>0.281376</td>\n",
              "      <td>0.404393</td>\n",
              "      <td>0.885978</td>\n",
              "      <td>0.861549</td>\n",
              "    </tr>\n",
              "  </tbody>\n",
              "</table>\n",
              "</div>"
            ],
            "text/plain": [
              "                   A         B         C         D\n",
              "2021-11-14  0.222496  0.599362  0.945796  0.880243\n",
              "2021-11-15  0.832029  0.044688  0.340890  0.574279\n",
              "2021-11-15  0.832029  0.044688  0.340890  0.574279\n",
              "2021-11-16  0.281376  0.404393  0.885978  0.861549"
            ]
          },
          "metadata": {},
          "execution_count": 101
        }
      ]
    },
    {
      "cell_type": "code",
      "metadata": {
        "id": "QXFOI3Usb5FO"
      },
      "source": [
        "left=pd.DataFrame({\n",
        "    \"key\":[\"green\",\"day\"],\"value1\":[1,2]\n",
        "})\n",
        "right=pd.DataFrame({\n",
        "    \"key\":[\"are\",\"the_best\"],\"value1\":[3,4]\n",
        "})"
      ],
      "execution_count": 103,
      "outputs": []
    },
    {
      "cell_type": "code",
      "metadata": {
        "colab": {
          "base_uri": "https://localhost:8080/",
          "height": 49
        },
        "id": "HxQX581Ycpkp",
        "outputId": "14c976ec-4827-4729-8ce4-8c3ea5939dee"
      },
      "source": [
        "pd.merge(left,right,on=\"key\")"
      ],
      "execution_count": 109,
      "outputs": [
        {
          "output_type": "execute_result",
          "data": {
            "text/html": [
              "<div>\n",
              "<style scoped>\n",
              "    .dataframe tbody tr th:only-of-type {\n",
              "        vertical-align: middle;\n",
              "    }\n",
              "\n",
              "    .dataframe tbody tr th {\n",
              "        vertical-align: top;\n",
              "    }\n",
              "\n",
              "    .dataframe thead th {\n",
              "        text-align: right;\n",
              "    }\n",
              "</style>\n",
              "<table border=\"1\" class=\"dataframe\">\n",
              "  <thead>\n",
              "    <tr style=\"text-align: right;\">\n",
              "      <th></th>\n",
              "      <th>key</th>\n",
              "      <th>value1_x</th>\n",
              "      <th>value1_y</th>\n",
              "    </tr>\n",
              "  </thead>\n",
              "  <tbody>\n",
              "  </tbody>\n",
              "</table>\n",
              "</div>"
            ],
            "text/plain": [
              "Empty DataFrame\n",
              "Columns: [key, value1_x, value1_y]\n",
              "Index: []"
            ]
          },
          "metadata": {},
          "execution_count": 109
        }
      ]
    },
    {
      "cell_type": "code",
      "metadata": {
        "id": "F4XAx8jYdj7y"
      },
      "source": [
        "import matplotlib.pyplot as plt\n",
        "plt.close(\"all\")"
      ],
      "execution_count": 111,
      "outputs": []
    },
    {
      "cell_type": "code",
      "metadata": {
        "colab": {
          "base_uri": "https://localhost:8080/",
          "height": 306
        },
        "id": "kylX0aM2ertF",
        "outputId": "846ca025-7c72-4bd3-f010-20da0dedccb5"
      },
      "source": [
        "ts=pd.Series(np.random.randn(10),index=pd.date_range(\"14/11/2021\",periods=10))\n",
        "ds=pd.DataFrame(np.random.randn(10,4), index=ts.index,columns=[\"A\",\"B\",\"C\",\"D\"])\n",
        "ds.plot()\n",
        "plt.legend(loc=\"best\")"
      ],
      "execution_count": 145,
      "outputs": [
        {
          "output_type": "execute_result",
          "data": {
            "text/plain": [
              "<matplotlib.legend.Legend at 0x7f82fb774a10>"
            ]
          },
          "metadata": {},
          "execution_count": 145
        },
        {
          "output_type": "display_data",
          "data": {
            "image/png": "[encoded data removed]",
            "text/plain": [
              "<Figure size 432x288 with 1 Axes>"
            ]
          },
          "metadata": {
            "needs_background": "light"
          }
        }
      ]
    },
    {
      "cell_type": "code",
      "metadata": {
        "colab": {
          "base_uri": "https://localhost:8080/",
          "height": 359
        },
        "id": "Gm7Ax0YTiCh2",
        "outputId": "43340e2d-bdcc-4901-dedf-c55a478dbcb4"
      },
      "source": [
        "ts.to_csv(\"data.csv\")\n",
        "pd.read_csv(\"data.csv\")"
      ],
      "execution_count": 148,
      "outputs": [
        {
          "output_type": "execute_result",
          "data": {
            "text/html": [
              "<div>\n",
              "<style scoped>\n",
              "    .dataframe tbody tr th:only-of-type {\n",
              "        vertical-align: middle;\n",
              "    }\n",
              "\n",
              "    .dataframe tbody tr th {\n",
              "        vertical-align: top;\n",
              "    }\n",
              "\n",
              "    .dataframe thead th {\n",
              "        text-align: right;\n",
              "    }\n",
              "</style>\n",
              "<table border=\"1\" class=\"dataframe\">\n",
              "  <thead>\n",
              "    <tr style=\"text-align: right;\">\n",
              "      <th></th>\n",
              "      <th>Unnamed: 0</th>\n",
              "      <th>0</th>\n",
              "    </tr>\n",
              "  </thead>\n",
              "  <tbody>\n",
              "    <tr>\n",
              "      <th>0</th>\n",
              "      <td>2021-11-14</td>\n",
              "      <td>-1.012401</td>\n",
              "    </tr>\n",
              "    <tr>\n",
              "      <th>1</th>\n",
              "      <td>2021-11-15</td>\n",
              "      <td>-1.083075</td>\n",
              "    </tr>\n",
              "    <tr>\n",
              "      <th>2</th>\n",
              "      <td>2021-11-16</td>\n",
              "      <td>-1.437215</td>\n",
              "    </tr>\n",
              "    <tr>\n",
              "      <th>3</th>\n",
              "      <td>2021-11-17</td>\n",
              "      <td>-1.667960</td>\n",
              "    </tr>\n",
              "    <tr>\n",
              "      <th>4</th>\n",
              "      <td>2021-11-18</td>\n",
              "      <td>0.309105</td>\n",
              "    </tr>\n",
              "    <tr>\n",
              "      <th>5</th>\n",
              "      <td>2021-11-19</td>\n",
              "      <td>0.739107</td>\n",
              "    </tr>\n",
              "    <tr>\n",
              "      <th>6</th>\n",
              "      <td>2021-11-20</td>\n",
              "      <td>-0.554879</td>\n",
              "    </tr>\n",
              "    <tr>\n",
              "      <th>7</th>\n",
              "      <td>2021-11-21</td>\n",
              "      <td>-0.577728</td>\n",
              "    </tr>\n",
              "    <tr>\n",
              "      <th>8</th>\n",
              "      <td>2021-11-22</td>\n",
              "      <td>0.897888</td>\n",
              "    </tr>\n",
              "    <tr>\n",
              "      <th>9</th>\n",
              "      <td>2021-11-23</td>\n",
              "      <td>-1.504765</td>\n",
              "    </tr>\n",
              "  </tbody>\n",
              "</table>\n",
              "</div>"
            ],
            "text/plain": [
              "   Unnamed: 0         0\n",
              "0  2021-11-14 -1.012401\n",
              "1  2021-11-15 -1.083075\n",
              "2  2021-11-16 -1.437215\n",
              "3  2021-11-17 -1.667960\n",
              "4  2021-11-18  0.309105\n",
              "5  2021-11-19  0.739107\n",
              "6  2021-11-20 -0.554879\n",
              "7  2021-11-21 -0.577728\n",
              "8  2021-11-22  0.897888\n",
              "9  2021-11-23 -1.504765"
            ]
          },
          "metadata": {},
          "execution_count": 148
        }
      ]
    },
    {
      "cell_type": "code",
      "metadata": {
        "id": "kvA2N945ksHG"
      },
      "source": [
        "ts.to_excel(\"data.xlsx\", sheet_name=\"data\")"
      ],
      "execution_count": 149,
      "outputs": []
    },
    {
      "cell_type": "code",
      "metadata": {
        "id": "mg_w3HIuk6KP"
      },
      "source": [
        "pd.read_excel(\"data.xlsx\",\"data\")"
      ],
      "execution_count": null,
      "outputs": []
    },
    {
      "cell_type": "code",
      "metadata": {
        "id": "_J4Syj4GleNu"
      },
      "source": [
        ""
      ],
      "execution_count": null,
      "outputs": []
    }
  ]
}